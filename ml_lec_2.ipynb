{
 "cells": [
  {
   "cell_type": "markdown",
   "metadata": {},
   "source": [
    "Logistic Models<br><br>The problem can be respresented by a series of hypothesis. Each hypothesis is described by a conjuction of constrains on the attributes<br>Given instances X which represent a set of all possible days:<br><br>Sky-{Values: Sunny, Cloudy, Rainy}"
   ]
  },
  {
   "cell_type": "markdown",
   "metadata": {},
   "source": [
    "Linear Models are parametric, stable.<br>Linear models have low variance and high bias<br>Linear models are less likely to overfit your data"
   ]
  },
  {
   "cell_type": "markdown",
   "metadata": {},
   "source": [
    "Distance based models use distance metrics commonly used are Euclidean, Minkowski, Manhattan and Mahalanobis"
   ]
  },
  {
   "cell_type": "markdown",
   "metadata": {},
   "source": [
    "Examples of distance based models include the nearest-neighbouts models, which use the training data as exemplas - for example in classification"
   ]
  },
  {
   "cell_type": "markdown",
   "metadata": {},
   "source": [
    "Probabilistic Models:<br><br>Probabilistic models see features and target variables as random variables<br>The process of modelling represents and manipulates the level of uncertainity with respect to these variables."
   ]
  },
  {
   "cell_type": "markdown",
   "metadata": {},
   "source": [
    "Designing a learning system<br><br>1. Type of training experience<br>2. Choosing the target function<br>3. Choosing a representation of target function<br>4. Choosing an approximation algorithm for target function<br>5. The final design"
   ]
  },
  {
   "cell_type": "markdown",
   "metadata": {},
   "source": [
    "Checkers Learning Algorithm:<br><br>1. Task T: To Play Checkers<br>2. The performace measure P: Total percent of game won in tournament<br>3. Training Experience E: A set of games played against itself"
   ]
  },
  {
   "cell_type": "markdown",
   "metadata": {},
   "source": [
    "Types of training experience:<br><br>1. Direct or Indirect training experience<br>2. Teacher or Not? Supervised vs Unsupervised vs Semi Supervised<br>3. Is the training experience good - Performance is best when training examples and test examples are from the same similar distribution."
   ]
  },
  {
   "cell_type": "markdown",
   "metadata": {},
   "source": [
    "LMS Algorithm:<br><br>Least mean square training rule is the one training algorithm that will adjust weights a small amount in the direction that reduces the error"
   ]
  },
  {
   "cell_type": "markdown",
   "metadata": {},
   "source": []
  }
 ],
 "metadata": {
  "language_info": {
   "name": "python"
  }
 },
 "nbformat": 4,
 "nbformat_minor": 2
}
